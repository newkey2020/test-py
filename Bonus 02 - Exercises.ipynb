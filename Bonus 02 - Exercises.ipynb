{
 "cells": [
  {
   "cell_type": "markdown",
   "metadata": {},
   "source": [
    "### Exercises: Intro to Conditional Statements"
   ]
  },
  {
   "cell_type": "markdown",
   "metadata": {},
   "source": [
    "Given an integer, , perform the following conditional actions:\n",
    "\n",
    "* If N is odd, print Weird\n",
    "* If N is even and in the inclusive range of 2 to 5, print Not Weird\n",
    "* If N is even and in the inclusive range of 6 to 20, print Weird\n",
    "* If N is even and greater than 20, print Not Weird\n",
    "\n",
    "Complete the stub code provided in your editor to print whether or not  is weird."
   ]
  },
  {
   "cell_type": "code",
   "execution_count": 1,
   "metadata": {},
   "outputs": [
    {
     "name": "stdin",
     "output_type": "stream",
     "text": [
      " 5\n"
     ]
    },
    {
     "name": "stdout",
     "output_type": "stream",
     "text": [
      "Weird\n"
     ]
    }
   ],
   "source": [
    "N = int(input())\n",
    "\n",
    "if N % 2 != 0:\n",
    "    print(\"Weird\")\n",
    "else:\n",
    "    if N <= 5:\n",
    "        print(\"Not Weird\")\n",
    "    elif N <= 20:\n",
    "        print(\"Weird\")\n",
    "    else:\n",
    "        print(\"Not Weird\")"
   ]
  },
  {
   "cell_type": "markdown",
   "metadata": {},
   "source": [
    "### Exercises: Simple Array Sum"
   ]
  },
  {
   "cell_type": "markdown",
   "metadata": {},
   "source": [
    "Given an array of integers, find the sum of its elements.\n",
    "\n",
    "For example, if the array ar = [1,2,3], 1 + 2 + 3 = 6, so return 6."
   ]
  },
  {
   "cell_type": "code",
   "execution_count": 1,
   "metadata": {},
   "outputs": [],
   "source": [
    "def simpleArraySum(ar):\n",
    "    say = 0\n",
    "    for indis in list(range(len(ar))):\n",
    "        say = say + ar[indis]\n",
    "    return say"
   ]
  },
  {
   "cell_type": "code",
   "execution_count": 2,
   "metadata": {},
   "outputs": [
    {
     "data": {
      "text/plain": [
       "31"
      ]
     },
     "execution_count": 2,
     "metadata": {},
     "output_type": "execute_result"
    }
   ],
   "source": [
    "ar = [1, 2, 3, 4, 10, 11]\n",
    "\n",
    "simpleArraySum(ar)"
   ]
  },
  {
   "cell_type": "code",
   "execution_count": 10,
   "metadata": {},
   "outputs": [],
   "source": [
    "def simpleArraySum(ar):\n",
    "    say = 0\n",
    "    indis = 0\n",
    "    while indis < int(len(ar)):\n",
    "        say += ar[indis]\n",
    "        indis += 1\n",
    "    return say"
   ]
  },
  {
   "cell_type": "code",
   "execution_count": 11,
   "metadata": {},
   "outputs": [
    {
     "data": {
      "text/plain": [
       "31"
      ]
     },
     "execution_count": 11,
     "metadata": {},
     "output_type": "execute_result"
    }
   ],
   "source": [
    "ar = [1, 2, 3, 4, 10, 11]\n",
    "\n",
    "simpleArraySum(ar)"
   ]
  },
  {
   "cell_type": "markdown",
   "metadata": {},
   "source": [
    "---"
   ]
  },
  {
   "cell_type": "markdown",
   "metadata": {},
   "source": [
    "### Exercises: Sum of Positive"
   ]
  },
  {
   "cell_type": "markdown",
   "metadata": {},
   "source": [
    "You get an array of numbers, return the sum of all of the positives ones.\n",
    "\n",
    "Example [1,-4,7,12] => 1 + 7 + 12 = 20\n",
    "\n",
    "Note: if there is nothing to sum, the sum is default to 0."
   ]
  },
  {
   "cell_type": "code",
   "execution_count": 2,
   "metadata": {},
   "outputs": [],
   "source": [
    "def positive_sum(arr):\n",
    "    sumx = 0\n",
    "    for sumarr in [pos for pos in arr if pos > 0]:\n",
    "        sumx += sumarr\n",
    "    return sumx"
   ]
  },
  {
   "cell_type": "code",
   "execution_count": 3,
   "metadata": {},
   "outputs": [
    {
     "data": {
      "text/plain": [
       "20"
      ]
     },
     "execution_count": 3,
     "metadata": {},
     "output_type": "execute_result"
    }
   ],
   "source": [
    "ls = [1,-4,7,12]\n",
    "positive_sum(ls)"
   ]
  },
  {
   "cell_type": "code",
   "execution_count": 4,
   "metadata": {},
   "outputs": [
    {
     "data": {
      "text/plain": [
       "0"
      ]
     },
     "execution_count": 4,
     "metadata": {},
     "output_type": "execute_result"
    }
   ],
   "source": [
    "ls = [-1,-4,-7,-12]\n",
    "positive_sum(ls)"
   ]
  },
  {
   "cell_type": "markdown",
   "metadata": {},
   "source": [
    "### Exercises: Loops"
   ]
  },
  {
   "attachments": {
    "image.png": {
     "image/png": "[encoded data removed]"
    }
   },
   "cell_type": "markdown",
   "metadata": {},
   "source": [
    "![image.png](attachment:image.png)"
   ]
  },
  {
   "cell_type": "code",
   "execution_count": 1,
   "metadata": {},
   "outputs": [
    {
     "name": "stdout",
     "output_type": "stream",
     "text": [
      "2 x 1 = 2\n",
      "2 x 2 = 4\n",
      "2 x 3 = 6\n",
      "2 x 4 = 8\n",
      "2 x 5 = 10\n",
      "2 x 6 = 12\n",
      "2 x 7 = 14\n",
      "2 x 8 = 16\n",
      "2 x 9 = 18\n",
      "2 x 10 = 20\n"
     ]
    }
   ],
   "source": [
    "n = 2\n",
    "for i in range(1,11):\n",
    "    print(str(n) + \" x \" + str(i) + \" = \" + str(n * i))"
   ]
  },
  {
   "cell_type": "code",
   "execution_count": 2,
   "metadata": {},
   "outputs": [
    {
     "name": "stdout",
     "output_type": "stream",
     "text": [
      "2 x 1 = 2\n",
      "2 x 2 = 4\n",
      "2 x 3 = 6\n",
      "2 x 4 = 8\n",
      "2 x 5 = 10\n",
      "2 x 6 = 12\n",
      "2 x 7 = 14\n",
      "2 x 8 = 16\n",
      "2 x 9 = 18\n",
      "2 x 10 = 20\n"
     ]
    }
   ],
   "source": [
    "n = 2\n",
    "for i in range(1,11):\n",
    "    print(str(n), \"x\", i, \"=\", str(n * i))"
   ]
  },
  {
   "cell_type": "code",
   "execution_count": 3,
   "metadata": {},
   "outputs": [
    {
     "name": "stdout",
     "output_type": "stream",
     "text": [
      "2 x 1 = 2\n",
      "2 x 2 = 4\n",
      "2 x 3 = 6\n",
      "2 x 4 = 8\n",
      "2 x 5 = 10\n",
      "2 x 6 = 12\n",
      "2 x 7 = 14\n",
      "2 x 8 = 16\n",
      "2 x 9 = 18\n",
      "2 x 10 = 20\n"
     ]
    }
   ],
   "source": [
    "n = 2\n",
    "for i in range(1,11):\n",
    "    print(n, \"x\", i, \"=\", n * i)"
   ]
  },
  {
   "cell_type": "markdown",
   "metadata": {},
   "source": [
    "### Exercises: Counting Sheep"
   ]
  },
  {
   "cell_type": "markdown",
   "metadata": {},
   "source": [
    "Consider an array of sheep where some sheep may be missing from their place. \n",
    "\n",
    "We need a function that counts the number of sheep present in the array (true means present).\n",
    "\n",
    "For example,\n",
    "\n",
    "[True,  True,  True,  False, True,  True,  True,  True, True,  False, True,  False,\n",
    "  True,  False, False, True, True,  True,  True,  True, False, False, True,  True]\n",
    "\n",
    "The correct answer would be 17.\n",
    "\n",
    "Hint: Don't forget to check for bad values like null/undefined"
   ]
  },
  {
   "cell_type": "code",
   "execution_count": 5,
   "metadata": {},
   "outputs": [],
   "source": [
    "arrayOfSheeps = [True,  True,  True,  False,\n",
    "                True,  True,  True,  True,\n",
    "                True,  False, True,  False,\n",
    "                True,  False, False, True,\n",
    "                True,  True,  True,  True,\n",
    "                False, False, True,  True]"
   ]
  },
  {
   "cell_type": "code",
   "execution_count": 6,
   "metadata": {},
   "outputs": [],
   "source": [
    "def count_sheeps(arrayOfSheeps):\n",
    "    count = 0\n",
    "    for i in range(len(arrayOfSheeps)):\n",
    "        if arrayOfSheeps[i] == True:\n",
    "            count += 1\n",
    "    return count"
   ]
  },
  {
   "cell_type": "code",
   "execution_count": 7,
   "metadata": {},
   "outputs": [
    {
     "data": {
      "text/plain": [
       "17"
      ]
     },
     "execution_count": 7,
     "metadata": {},
     "output_type": "execute_result"
    }
   ],
   "source": [
    "count_sheeps(arrayOfSheeps)"
   ]
  },
  {
   "cell_type": "code",
   "execution_count": 10,
   "metadata": {},
   "outputs": [],
   "source": [
    "def count_sheeps_v2(array_of_sheep):\n",
    "    count = 0\n",
    "    for sheep in array_of_sheep:\n",
    "        if sheep:\n",
    "            count += 1 \n",
    "    return count"
   ]
  },
  {
   "cell_type": "code",
   "execution_count": 11,
   "metadata": {},
   "outputs": [
    {
     "data": {
      "text/plain": [
       "17"
      ]
     },
     "execution_count": 11,
     "metadata": {},
     "output_type": "execute_result"
    }
   ],
   "source": [
    "count_sheeps_v2(arrayOfSheeps)"
   ]
  },
  {
   "cell_type": "code",
   "execution_count": 12,
   "metadata": {},
   "outputs": [],
   "source": [
    "def count_sheeps_v3(array_of_sheep):\n",
    "    return array_of_sheep.count(True)"
   ]
  },
  {
   "cell_type": "code",
   "execution_count": 13,
   "metadata": {},
   "outputs": [
    {
     "data": {
      "text/plain": [
       "17"
      ]
     },
     "execution_count": 13,
     "metadata": {},
     "output_type": "execute_result"
    }
   ],
   "source": [
    "count_sheeps_v3(arrayOfSheeps)"
   ]
  },
  {
   "cell_type": "code",
   "execution_count": 14,
   "metadata": {},
   "outputs": [],
   "source": [
    "def count_sheeps_v4(array_of_sheep):\n",
    "    return len([x for x in array_of_sheep if x])"
   ]
  },
  {
   "cell_type": "code",
   "execution_count": 15,
   "metadata": {},
   "outputs": [
    {
     "data": {
      "text/plain": [
       "17"
      ]
     },
     "execution_count": 15,
     "metadata": {},
     "output_type": "execute_result"
    }
   ],
   "source": [
    "count_sheeps_v4(arrayOfSheeps)"
   ]
  },
  {
   "cell_type": "markdown",
   "metadata": {},
   "source": [
    "### Exercises: Class vs Instance"
   ]
  },
  {
   "cell_type": "markdown",
   "metadata": {},
   "source": [
    "Aşağıdaki şartları sağlayan Person adında Class Oluşturun:\n",
    "* instance variable: age\n",
    "* constructor: initialAge\n",
    "\n",
    "\n",
    "1. initialAge negatif olamaz ve eğer negatif ise Constructor age değişkenini 0'a set etmeli ve \"Age is not valid, setting age to 0.\" yazdırmalıdır.\n",
    "\n",
    "2. amIOld() method'u şu koşulları gerçekleştirmelidir.\n",
    "    1. age < 13 ise \"You are young.\" yazdır\n",
    "    2. age >= 13 ve age <18 ise \"You are a teenager.\" yazdır\n",
    "    3. diğer koşullarda \"You are old.\" yazdır\n",
    "\n",
    "3. yearPasses() age instance variable'ını 1 arttırmalı.\n"
   ]
  },
  {
   "cell_type": "code",
   "execution_count": 16,
   "metadata": {},
   "outputs": [],
   "source": [
    "class Person:\n",
    "    def __init__(self, initialAge):\n",
    "        if initialAge > 0:\n",
    "            self.age = initialAge\n",
    "        else:\n",
    "            print(\"Age is not valid, setting age to 0.\")\n",
    "            self.age = 0\n",
    "\n",
    "    def amIOld(self):\n",
    "        if self.age < 13:\n",
    "            print(\"You are young.\")\n",
    "        elif self.age < 18:\n",
    "            print(\"You are a teenager.\")\n",
    "        else:\n",
    "            print(\"You are old.\")\n",
    "\n",
    "    def yearPasses(self):\n",
    "        self.age += 1"
   ]
  },
  {
   "cell_type": "code",
   "execution_count": 17,
   "metadata": {},
   "outputs": [
    {
     "name": "stdout",
     "output_type": "stream",
     "text": [
      "Age is not valid, setting age to 0.\n",
      "You are young.\n",
      "You are young.\n"
     ]
    }
   ],
   "source": [
    "yas = -1\n",
    "\n",
    "Person1 = Person(yas)\n",
    "Person1.amIOld()\n",
    "Person1.yearPasses()\n",
    "Person1.amIOld()"
   ]
  },
  {
   "cell_type": "code",
   "execution_count": 18,
   "metadata": {},
   "outputs": [
    {
     "name": "stdout",
     "output_type": "stream",
     "text": [
      "You are a teenager.\n",
      "You are old.\n"
     ]
    }
   ],
   "source": [
    "yas = 17\n",
    "\n",
    "Person1 = Person(yas)\n",
    "Person1.amIOld()\n",
    "Person1.yearPasses()\n",
    "Person1.amIOld()"
   ]
  },
  {
   "cell_type": "code",
   "execution_count": 19,
   "metadata": {},
   "outputs": [
    {
     "name": "stdout",
     "output_type": "stream",
     "text": [
      "Age is not valid, setting age to 0.\n",
      "You are young.\n",
      "You are young.\n"
     ]
    }
   ],
   "source": [
    "yas = -1\n",
    "        \n",
    "p = Person(yas)  \n",
    "p.amIOld()\n",
    "for j in range(0, 3): # 3yıl arttırıyor\n",
    "    p.yearPasses()       \n",
    "p.amIOld()"
   ]
  },
  {
   "cell_type": "code",
   "execution_count": 20,
   "metadata": {},
   "outputs": [
    {
     "name": "stdout",
     "output_type": "stream",
     "text": [
      "You are young.\n",
      "You are a teenager.\n"
     ]
    }
   ],
   "source": [
    "yas = 10\n",
    "        \n",
    "p = Person(yas)  \n",
    "p.amIOld()\n",
    "for j in range(0, 3): # 3yıl arttırıyor\n",
    "    p.yearPasses()       \n",
    "p.amIOld()"
   ]
  },
  {
   "cell_type": "code",
   "execution_count": 21,
   "metadata": {},
   "outputs": [
    {
     "name": "stdout",
     "output_type": "stream",
     "text": [
      "You are a teenager.\n",
      "You are old.\n"
     ]
    }
   ],
   "source": [
    "yas = 16\n",
    "        \n",
    "p = Person(yas)  \n",
    "p.amIOld()\n",
    "for j in range(0, 3): # 3yıl arttırıyor\n",
    "    p.yearPasses()       \n",
    "p.amIOld()"
   ]
  },
  {
   "cell_type": "markdown",
   "metadata": {},
   "source": [
    "### Exercises: Splitting String Value"
   ]
  },
  {
   "cell_type": "code",
   "execution_count": 1,
   "metadata": {},
   "outputs": [
    {
     "name": "stdout",
     "output_type": "stream",
     "text": [
      "Hce akr"
     ]
    }
   ],
   "source": [
    "strValue = \"Hacker\"\n",
    "\n",
    "for j in range(len(strValue)):\n",
    "    if j % 2 == 0:\n",
    "        print(strValue[j], end='')\n",
    "\n",
    "print(\" \", end='')\n",
    "\n",
    "for j in range(len(strValue)):\n",
    "    if j % 2 == 1:\n",
    "        print(strValue[j], end='')"
   ]
  },
  {
   "cell_type": "code",
   "execution_count": 2,
   "metadata": {
    "scrolled": true
   },
   "outputs": [
    {
     "name": "stdout",
     "output_type": "stream",
     "text": [
      "Kaç Kelime Bölünecek: 2\n",
      "\n",
      "Bölünecek 1. Kelime: Ahmet\n",
      "\n",
      "Amt he\n",
      "\n",
      "Bölünecek 2. Kelime: Emanet\n",
      "\n",
      "Eae mnt\n"
     ]
    }
   ],
   "source": [
    "N = int(input(\"Kaç Kelime Bölünecek: \"))\n",
    "\n",
    "for i in range(0, N):\n",
    "    \n",
    "    print(\"\")\n",
    "    \n",
    "    string = input(\"Bölünecek \" + str(i + 1) + \". Kelime: \" )\n",
    "    \n",
    "    print(\"\")\n",
    "\n",
    "    for j in range(0, len(string)):\n",
    "        if j % 2 == 0:\n",
    "            print(string[j], end='')\n",
    "\n",
    "    print(\" \", end='')\n",
    "\n",
    "    for j in range(0, len(string)):\n",
    "        if j % 2 != 0:\n",
    "            print(string[j], end='')\n",
    "\n",
    "    print(\"\")"
   ]
  },
  {
   "cell_type": "markdown",
   "metadata": {},
   "source": [
    "### Exercise: Reverse of Python Array (not Numpy Array)"
   ]
  },
  {
   "cell_type": "code",
   "execution_count": 14,
   "metadata": {},
   "outputs": [],
   "source": [
    "import array"
   ]
  },
  {
   "cell_type": "code",
   "execution_count": 26,
   "metadata": {},
   "outputs": [
    {
     "data": {
      "text/plain": [
       "array('i', [1, 4, 3, 2])"
      ]
     },
     "execution_count": 26,
     "metadata": {},
     "output_type": "execute_result"
    }
   ],
   "source": [
    "arr = array.array('i', [1,4,3,2]) \n",
    "arr"
   ]
  },
  {
   "cell_type": "code",
   "execution_count": 27,
   "metadata": {},
   "outputs": [
    {
     "name": "stdout",
     "output_type": "stream",
     "text": [
      "2 3 4 1 "
     ]
    }
   ],
   "source": [
    "arr.reverse()\n",
    "\n",
    "for num in arr:\n",
    "    print(num, end=\" \")"
   ]
  },
  {
   "cell_type": "code",
   "execution_count": 18,
   "metadata": {},
   "outputs": [],
   "source": []
  },
  {
   "cell_type": "code",
   "execution_count": null,
   "metadata": {},
   "outputs": [],
   "source": []
  }
 ],
 "metadata": {
  "kernelspec": {
   "display_name": "Python 3",
   "language": "python",
   "name": "python3"
  },
  "language_info": {
   "codemirror_mode": {
    "name": "ipython",
    "version": 3
   },
   "file_extension": ".py",
   "mimetype": "text/x-python",
   "name": "python",
   "nbconvert_exporter": "python",
   "pygments_lexer": "ipython3",
   "version": "3.7.6"
  }
 },
 "nbformat": 4,
 "nbformat_minor": 4
}
